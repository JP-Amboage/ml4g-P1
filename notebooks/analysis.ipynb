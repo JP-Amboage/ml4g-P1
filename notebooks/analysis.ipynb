{
 "cells": [
  {
   "cell_type": "markdown",
   "metadata": {},
   "source": [
    "### Basic Analysis on the CAGE data"
   ]
  },
  {
   "cell_type": "code",
   "execution_count": 143,
   "metadata": {},
   "outputs": [],
   "source": [
    "import pandas as pd\n",
    "import pyBigWig\n",
    "from matplotlib import pyplot as plt\n",
    "import seaborn as sns\n",
    "import math\n",
    "import numpy as np\n",
    "from tqdm import tqdm\n",
    "import os"
   ]
  },
  {
   "cell_type": "code",
   "execution_count": 144,
   "metadata": {},
   "outputs": [],
   "source": [
    "DATA_PATH = \"../data/ML4G_Project_1_Data\"\n",
    "CAGE_PATH = \"CAGE-train/CAGE-train\"\n",
    "DNASE_PATH = \"DNase-bed\""
   ]
  },
  {
   "cell_type": "code",
   "execution_count": 145,
   "metadata": {},
   "outputs": [],
   "source": [
    "# Loading the data from the _info files\n",
    "# there is X1, train and val (info and y)\n",
    "\n",
    "dfs = {}\n",
    "for i in range(3):\n",
    "    for split in [\"train\", \"val\"] if i < 2 else [\"test\"]:\n",
    "        info_path = os.path.join(DATA_PATH, CAGE_PATH, f\"X{i+1}_{split}_info.tsv\")\n",
    "        df_info = pd.read_csv(info_path, sep=\"\\t\")\n",
    "        dfs[f\"X{i+1}_{split}_info\"] = df_info\n",
    "\n",
    "        if i == 2:\n",
    "            continue\n",
    "        y_path = os.path.join(DATA_PATH, CAGE_PATH, f\"X{i+1}_{split}_y.tsv\")\n",
    "        df_y = pd.read_csv(y_path, sep=\"\\t\")\n",
    "        dfs[f\"X{i+1}_{split}_y\"] = df_y"
   ]
  },
  {
   "cell_type": "code",
   "execution_count": null,
   "metadata": {},
   "outputs": [],
   "source": [
    "dfs[\"X1_train_info\"].head()"
   ]
  },
  {
   "cell_type": "code",
   "execution_count": 147,
   "metadata": {},
   "outputs": [],
   "source": [
    "# assert that the lengths of the corresponding info and y files are the same\n",
    "for i in range(2):\n",
    "    for split in [\"train\", \"val\"]:\n",
    "        assert len(dfs[f\"X{i+1}_{split}_info\"]) == len(dfs[f\"X{i+1}_{split}_y\"])"
   ]
  },
  {
   "cell_type": "code",
   "execution_count": 148,
   "metadata": {},
   "outputs": [],
   "source": [
    "# Merge the info and y files, by adding the \"gex\" column from \"y\" to \"info\"\n",
    "for i in range(2):\n",
    "    for split in [\"train\", \"val\"]:\n",
    "        df_info = dfs[f\"X{i+1}_{split}_info\"]\n",
    "        df_y = dfs[f\"X{i+1}_{split}_y\"]\n",
    "        df_info[\"gex\"] = df_y[\"gex\"]\n",
    "        dfs[f\"X{i+1}_{split}\"] = df_info\n",
    "        del dfs[f\"X{i+1}_{split}_info\"]\n",
    "        del dfs[f\"X{i+1}_{split}_y\"]"
   ]
  },
  {
   "cell_type": "code",
   "execution_count": null,
   "metadata": {},
   "outputs": [],
   "source": [
    "dfs.keys()"
   ]
  },
  {
   "cell_type": "code",
   "execution_count": 150,
   "metadata": {},
   "outputs": [],
   "source": [
    "# Generating gene length and TSS length in \"info\" dataframes\n",
    "for key in dfs.keys():\n",
    "    df = dfs[key]\n",
    "    df[\"gene_length\"] = df[\"gene_end\"] - df[\"gene_start\"]\n",
    "    df[\"tss_length\"] = df[\"TSS_end\"] - df[\"TSS_start\"]"
   ]
  },
  {
   "cell_type": "code",
   "execution_count": null,
   "metadata": {},
   "outputs": [],
   "source": [
    "# Display basic info and statistics\n",
    "print(\"Data Summary:\")\n",
    "dfs[\"X1_train\"].info()"
   ]
  },
  {
   "cell_type": "code",
   "execution_count": null,
   "metadata": {},
   "outputs": [],
   "source": [
    "dfs[\"X1_val\"].describe()"
   ]
  },
  {
   "cell_type": "code",
   "execution_count": null,
   "metadata": {},
   "outputs": [],
   "source": [
    "# Min, avg, max gene expression (gex) values over all \"y\" dataframes\n",
    "for key in dfs.keys():\n",
    "    if key == \"X3_test_info\":\n",
    "        continue\n",
    "    df = dfs[key]\n",
    "    print(f\"{key}: Min: {df['gex'].min()}, Avg: {df['gex'].mean()}, Max: {df['gex'].max()}\")"
   ]
  },
  {
   "cell_type": "code",
   "execution_count": null,
   "metadata": {},
   "outputs": [],
   "source": [
    "print(\"\\nSummary Statistics:\")\n",
    "dfs[\"X1_train\"].describe()"
   ]
  },
  {
   "cell_type": "code",
   "execution_count": null,
   "metadata": {},
   "outputs": [],
   "source": [
    "# Print, avg, min and max gene and TSS length for all \"info\" dataframes\n",
    "for key in dfs.keys():\n",
    "    df = dfs[key]\n",
    "    print(f\"\\n{key}:\")\n",
    "    print(f\"Gene length: min={df['gene_length'].min()}, avg={df['gene_length'].mean()}, max={df['gene_length'].max()}\")\n",
    "    print(f\"TSS length: min={df['tss_length'].min()}, avg={df['tss_length'].mean()}, max={df['tss_length'].max()}\")"
   ]
  },
  {
   "cell_type": "code",
   "execution_count": null,
   "metadata": {},
   "outputs": [],
   "source": [
    "# Strand distribution\n",
    "def plot_strand_distribution(df, title):\n",
    "    # Define a color palette mapping + to one color and - to another\n",
    "    strand_palette = {'+': 'skyblue', '-': 'salmon'}\n",
    "\n",
    "    # Strand distribution with consistent order and colors\n",
    "    plt.figure(figsize=(6, 4))\n",
    "    sns.countplot(x='strand', data=df, hue='strand', palette=strand_palette, order=['+', '-'], legend=False)\n",
    "    plt.title('Strand Distribution (+/-) for ' + title)\n",
    "    plt.xlabel('Strand')\n",
    "    plt.ylabel('Count')\n",
    "    plt.show()\n",
    "\n",
    "\n",
    "# Plot strand distribution for all \"info\" dataframes\n",
    "for key in dfs.keys():\n",
    "    plot_strand_distribution(dfs[key], key)"
   ]
  },
  {
   "cell_type": "code",
   "execution_count": null,
   "metadata": {},
   "outputs": [],
   "source": [
    "# Gene expression distribution\n",
    "def plot_gene_expression_distribution(df, title):\n",
    "    plt.figure(figsize=(6, 4))\n",
    "    sns.histplot(df[\"log_gex\"], kde=True, color='skyblue')\n",
    "    plt.title('Gene Expression Distribution for ' + title)\n",
    "    plt.xlabel('log(gex + 1)')\n",
    "    plt.ylabel('Density')\n",
    "    plt.show()\n",
    "\n",
    "\n",
    "# Iterate over all \"y\" dataframes and plot gene expression distribution \n",
    "# Apply first a log-transformation to the gene expression values\n",
    "for key in dfs.keys():\n",
    "    if key == \"X3_test_info\":\n",
    "        continue\n",
    "    dfs[key][\"log_gex\"] = dfs[key][\"gex\"].apply(lambda x: math.log(x + 1)) \n",
    "    plot_gene_expression_distribution(dfs[key], key) "
   ]
  },
  {
   "cell_type": "code",
   "execution_count": null,
   "metadata": {},
   "outputs": [],
   "source": [
    "# min, avg, max of log-transformed gene expression values\n",
    "for key in dfs.keys():\n",
    "    if key == \"X3_test_info\":\n",
    "        continue\n",
    "    df = dfs[key]\n",
    "    print(f\"{key} - Log-GEX: Min: {df['log_gex'].min()}, Avg: {df['log_gex'].mean()}, Max: {df['log_gex'].max()}\")\n",
    "    print(f\"{key} - GEX: Min: {df['gex'].min()}, Avg: {df['gex'].mean()}, Max: {df['gex'].max()}\")\n",
    "    print()"
   ]
  },
  {
   "cell_type": "code",
   "execution_count": null,
   "metadata": {},
   "outputs": [],
   "source": [
    "# Count how many records have a gene expression value lower than 0\n",
    "for key in dfs.keys():\n",
    "    if key == \"X3_test_info\":\n",
    "        continue\n",
    "    df = dfs[key]\n",
    "    print(f\"{key}: {df[df['gex'] < 0].shape[0]} records have a gene expression value lower than 1\")"
   ]
  },
  {
   "cell_type": "markdown",
   "metadata": {},
   "source": [
    "### Histone Marks Data Analysis"
   ]
  },
  {
   "cell_type": "code",
   "execution_count": 176,
   "metadata": {},
   "outputs": [],
   "source": [
    "HISTONE_MARKS = [\"H3K4me1\", \"H3K4me3\", \"H3K9me3\", \"H3K27ac\", \"H3K36me3\", \"H3K27me3\"]\n",
    "\n",
    "region_map = {\n",
    "    \"H3K4me1\": \"enhancer\",\n",
    "    \"H3K4me3\": \"promoter\",\n",
    "    \"H3K9me3\": \"heterochromatin\",\n",
    "    \"H3K27ac\": \"enhancer/promoter\",\n",
    "    \"H3K36me3\": \"gene body\",\n",
    "    \"H3K27me3\": \"promoter\"\n",
    "}\n",
    "\n",
    "effect_map = {\n",
    "    \"H3K4me1\": \"poised/active enhancers\",\n",
    "    \"H3K4me3\": \"active\",\n",
    "    \"H3K27ac\": \"active\",\n",
    "    \"H3K36me3\": \"transcriptional elongation\",\n",
    "    \"H3K9me3\": \"repressive\",\n",
    "    \"H3K27me3\": \"repressive\"\n",
    "}\n",
    "\n",
    "# Activating Marks:\n",
    "\n",
    "# H3K4me3: Active transcription (promoters).\n",
    "# H3K27ac: Active transcription (enhancers/promoters).\n",
    "# H3K4me1: Poised/active enhancers (enhancers, sometimes promoters).\n",
    "# H3K36me3: Associated with transcriptional elongation (gene bodies).\n",
    "\n",
    "# Repressive Marks:\n",
    "\n",
    "# H3K9me3: Repressive mark associated with heterochromatin (gene silencing).\n",
    "# H3K27me3: Repressive mark linked to Polycomb-mediated gene silencing (reversible gene silencing)."
   ]
  },
  {
   "cell_type": "code",
   "execution_count": 162,
   "metadata": {},
   "outputs": [],
   "source": [
    "bigwig_dfs = {}\n",
    "# we have under each DATA_PATH/HISTONE_MARK-bigwig folder X1, X2 and X2 .bw / .bigwig files\n",
    "for mark in HISTONE_MARKS:\n",
    "    bigwig_dfs[mark] = {}\n",
    "    for i in range(3):\n",
    "        bigwig_path = os.path.join(DATA_PATH, f\"{mark}-bigwig\", f\"X{i+1}.bigwig\")\n",
    "\n",
    "        # check if it exists, otherwise its .bw\n",
    "        if not os.path.exists(bigwig_path):\n",
    "            bigwig_path = os.path.join(DATA_PATH, f\"{mark}-bigwig\", f\"X{i+1}.bw\")\n",
    "\n",
    "        # Open bigwig file\n",
    "        bw = pyBigWig.open(bigwig_path)\n",
    "        bigwig_dfs[mark][f\"X{i+1}\"] = bw"
   ]
  },
  {
   "cell_type": "code",
   "execution_count": null,
   "metadata": {},
   "outputs": [],
   "source": [
    "bigwig_dfs[\"H3K4me1\"][\"X1\"].header()"
   ]
  },
  {
   "cell_type": "code",
   "execution_count": null,
   "metadata": {},
   "outputs": [],
   "source": [
    "def extract_bigwig_signal(df, bw, region_size=1000):\n",
    "    signals = []\n",
    "    with tqdm(total=len(df)) as pbar:\n",
    "        for idx, row in df.iterrows():\n",
    "            pbar.update(1)\n",
    "\n",
    "            # Get signal around TSS (+/- region_size bp)\n",
    "            start = max(0, row['TSS_start'] - region_size)\n",
    "            end = row['TSS_end'] + region_size\n",
    "            signal = bw.values(row['chr'], start, end)\n",
    "            signals.append(sum(signal) / len(signal))  # Example: mean signal\n",
    "    return signals\n",
    "\n",
    "# Extract signal for all histone marks and all \"info\" dataframes\n",
    "for mark in HISTONE_MARKS:\n",
    "    for key in dfs.keys():\n",
    "        print(f\"Extracting signal for {mark} - {key}\")\n",
    "        df = dfs[key]\n",
    "        bw = bigwig_dfs[mark][key.split(\"_\")[0]]\n",
    "        df[mark] = extract_bigwig_signal(df, bw)"
   ]
  },
  {
   "cell_type": "code",
   "execution_count": null,
   "metadata": {},
   "outputs": [],
   "source": [
    "dfs[\"X1_train\"].head()"
   ]
  },
  {
   "cell_type": "code",
   "execution_count": null,
   "metadata": {},
   "outputs": [],
   "source": [
    "# Plot histone signal vs. gene expression\n",
    "def plot_histone_signal_vs_gene_expression(df, mark, split):\n",
    "    plt.figure(figsize=(10, 6))\n",
    "    sns.scatterplot(x=mark, y='log_gex', data=df)\n",
    "    plt.title(f'{mark} Signal ({region_map[mark]}, {effect_map[mark]}) vs. Gene Expression for {split}')\n",
    "    plt.xlabel(f'Mean {mark} Signal Around TSS')\n",
    "    plt.ylabel('Gene Expression (CPM)')\n",
    "    plt.show()\n",
    "\n",
    "# Iterate over all histone marks and plot signal vs. gene expression\n",
    "for mark in HISTONE_MARKS:\n",
    "    # plot_histone_signal_vs_gene_expression(dfs[\"X1_train\"], mark, \"X1_train\")\n",
    "    for key in dfs.keys():\n",
    "        if key == \"X3_test_info\":\n",
    "            continue\n",
    "        plot_histone_signal_vs_gene_expression(dfs[key], mark, key)"
   ]
  }
 ],
 "metadata": {
  "kernelspec": {
   "display_name": "ml4gen-p1",
   "language": "python",
   "name": "python3"
  },
  "language_info": {
   "codemirror_mode": {
    "name": "ipython",
    "version": 3
   },
   "file_extension": ".py",
   "mimetype": "text/x-python",
   "name": "python",
   "nbconvert_exporter": "python",
   "pygments_lexer": "ipython3",
   "version": "3.13.0"
  }
 },
 "nbformat": 4,
 "nbformat_minor": 2
}
