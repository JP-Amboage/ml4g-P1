{
 "cells": [
  {
   "cell_type": "code",
   "execution_count": 171,
   "metadata": {},
   "outputs": [],
   "source": [
    "# Import libraries that are required to run your project\n",
    "# You are allowed to add more libraries as you need\n",
    "\n",
    "import pandas as pd\n",
    "import numpy as np\n",
    "from scipy.stats import spearmanr\n",
    "import pyBigWig\n",
    "from tqdm import tqdm"
   ]
  },
  {
   "cell_type": "code",
   "execution_count": 172,
   "metadata": {},
   "outputs": [],
   "source": [
    "BIN_SIZE = 64*2\n",
    "SEQ_LENGTH = 32768//2\n",
    "PATH_TRAIN_X1_FEATURES = 'data/ML4G_Project_1_Data/CAGE-train/X1_train_info.tsv'\n",
    "PATH_TRAIN_X1_TARGETS = 'data/ML4G_Project_1_Data/CAGE-train/X1_train_y.tsv'\n",
    "PATH_H3K4me1_X1_BW = 'data/ML4G_Project_1_Data/H3K4me1-bigwig/X1.bigwig'\n",
    "PATH_H3K4me3_X1_BW = 'data/ML4G_Project_1_Data/H3K4me3-bigwig/X1.bw'\n",
    "PATH_H3K9me3_X1_BW = 'data/ML4G_Project_1_Data/H3K9me3-bigwig/X1.bw'\n",
    "PATH_H3K27ac_X1_BW = 'data/ML4G_Project_1_Data/H3K27ac-bigwig/X1.bigwig'\n",
    "PATH_H3K27me3_X1_BW = 'data/ML4G_Project_1_Data/H3K27me3-bigwig/X1.bw'\n",
    "PATH_H3K36me3_X1_BW = 'data/ML4G_Project_1_Data/H3K36me3-bigwig/X1.bw'"
   ]
  },
  {
   "cell_type": "code",
   "execution_count": null,
   "metadata": {},
   "outputs": [],
   "source": [
    "df_features = pd.read_csv(PATH_TRAIN_X1_FEATURES, delimiter='\\t')\n",
    "df_features.head()\n"
   ]
  },
  {
   "cell_type": "code",
   "execution_count": null,
   "metadata": {},
   "outputs": [],
   "source": [
    "df_targets = pd.read_csv(PATH_TRAIN_X1_TARGETS, delimiter='\\t')\n",
    "df_targets.head()"
   ]
  },
  {
   "cell_type": "code",
   "execution_count": 177,
   "metadata": {},
   "outputs": [],
   "source": [
    "assert (df_features['gene_name'] == df_targets['gene_name']).all()\n",
    "y = np.zeros((df_targets.shape[0], 1))\n",
    "y = df_targets['gex'].values"
   ]
  },
  {
   "cell_type": "code",
   "execution_count": null,
   "metadata": {},
   "outputs": [],
   "source": [
    "dummy_array = np.zeros(SEQ_LENGTH)\n",
    "df_Xy = pd.DataFrame({\n",
    "    'id': ['id'], \n",
    "    'H3K4me1': [dummy_array],\n",
    "    'H3K4me3': [dummy_array],\n",
    "    'H3K9me3': [dummy_array],\n",
    "    'H3K27ac': [dummy_array],\n",
    "    'H3K27me3': [dummy_array],\n",
    "    'H3K36me3': [dummy_array],\n",
    "    'target': [dummy_array]\n",
    "    })\n",
    "df_Xy.head()\n",
    "df_Xy.shape[0]"
   ]
  },
  {
   "cell_type": "code",
   "execution_count": 152,
   "metadata": {},
   "outputs": [],
   "source": [
    "def build_features(chrom: str, TSS_start: int, strand: str, bw) -> np.ndarray:\n",
    "    features = np.zeros(SEQ_LENGTH//BIN_SIZE)\n",
    "    for i in range(features.shape[0]):\n",
    "        start = TSS_start - SEQ_LENGTH//2 + i*BIN_SIZE\n",
    "        end = start + BIN_SIZE\n",
    "        values = bw.values(chrom, start, end)\n",
    "        features[i] = np.mean(values)\n",
    "    if strand == '-':\n",
    "        features = features[::-1]\n",
    "    return features\n"
   ]
  },
  {
   "cell_type": "code",
   "execution_count": 153,
   "metadata": {},
   "outputs": [],
   "source": [
    "\n",
    "H3K4me1_X1 = pyBigWig.open(PATH_H3K4me1_X1_BW)\n",
    "H3K4me3_X1 = pyBigWig.open(PATH_H3K4me3_X1_BW)\n",
    "H3K9me3_X1 = pyBigWig.open(PATH_H3K9me3_X1_BW)\n",
    "H3K27ac_X1 = pyBigWig.open(PATH_H3K27ac_X1_BW)\n",
    "H3K27me3_X1 = pyBigWig.open(PATH_H3K27me3_X1_BW)\n",
    "H3K36me3_X1 = pyBigWig.open(PATH_H3K36me3_X1_BW)"
   ]
  },
  {
   "cell_type": "code",
   "execution_count": 154,
   "metadata": {},
   "outputs": [],
   "source": [
    "assert (df_features['gene_name'] == df_targets['gene_name']).all()"
   ]
  },
  {
   "cell_type": "code",
   "execution_count": null,
   "metadata": {},
   "outputs": [],
   "source": [
    "for i in tqdm(range(df_features.shape[0])):\n",
    "    row = df_features.iloc[i]\n",
    "    chrom = row['chr']\n",
    "    TSS_start = row['TSS_start']\n",
    "    strand = row['strand']\n",
    "    new_row = {\n",
    "        'id': row['gene_name'] + '_X1',\n",
    "        'H3K4me1': build_features(chrom, TSS_start, strand, H3K4me1_X1),\n",
    "        'H3K4me3': build_features(chrom, TSS_start, strand, H3K4me3_X1),\n",
    "        'H3K9me3': build_features(chrom, TSS_start, strand, H3K9me3_X1),\n",
    "        'H3K27ac': build_features(chrom, TSS_start, strand, H3K27ac_X1),\n",
    "        'H3K27me3': build_features(chrom, TSS_start, strand, H3K27me3_X1),\n",
    "        'H3K36me3': build_features(chrom, TSS_start, strand, H3K36me3_X1),\n",
    "        'target': df_targets.iloc[i]['gex']\n",
    "    }\n",
    "\n",
    "    df_Xy.loc[i] = new_row"
   ]
  },
  {
   "cell_type": "code",
   "execution_count": 156,
   "metadata": {},
   "outputs": [],
   "source": [
    "df_Xy.to_pickle('X1_train.pkl')\n"
   ]
  },
  {
   "cell_type": "code",
   "execution_count": null,
   "metadata": {},
   "outputs": [],
   "source": [
    "df_Xy.head()"
   ]
  },
  {
   "cell_type": "code",
   "execution_count": null,
   "metadata": {},
   "outputs": [],
   "source": [
    "df_Xy.loc[1]['H3K4me3']"
   ]
  },
  {
   "cell_type": "code",
   "execution_count": null,
   "metadata": {},
   "outputs": [],
   "source": [
    "df_Xy.head()"
   ]
  },
  {
   "cell_type": "markdown",
   "metadata": {},
   "source": [
    "## Work Package 1.1 - Modeling Choices & Data Pre-processing"
   ]
  },
  {
   "cell_type": "code",
   "execution_count": null,
   "metadata": {},
   "outputs": [],
   "source": [
    "# TODO: \n",
    "# Load your feature (bed and/or bigwig and/or fasta) and target files (tsv) here.\n",
    "# Decide which features to use for training. Feel free to process them however you need.\n",
    "\n",
    "# NOTE: \n",
    "# bed and bigwig files contain signals of all chromosomes (including sex chromosomes).\n",
    "# Training and validation split based on chromosomes has been done for you. \n",
    "# However, you can resplit the data in any way you want.\n",
    "\n",
    "path_data = \"/path/to/your/data/files\"  # TODO\n",
    "path_test = \"/path/to/test/info/file\"   # X3_test_info.tsv ; TODO\n",
    "test_genes = pd.read_csv(path_test, sep='\\t')\n",
    "# ---------------------------INSERT CODE HERE---------------------------\n",
    "\n",
    "\n",
    "\n",
    "# ---------------------------------------------------------------------- "
   ]
  },
  {
   "cell_type": "markdown",
   "metadata": {},
   "source": [
    "## Work Package 1.2 - Model Building"
   ]
  },
  {
   "cell_type": "code",
   "execution_count": null,
   "metadata": {},
   "outputs": [],
   "source": [
    "# TODO: \n",
    "# Select the best model to predict gene expression from the obtained features in WP 1.1.\n",
    "\n",
    "# ---------------------------INSERT CODE HERE---------------------------\n",
    "\n",
    "\n",
    "\n",
    "\n",
    "# ----------------------------------------------------------------------\n"
   ]
  },
  {
   "cell_type": "markdown",
   "metadata": {},
   "source": [
    "## Work Package 1.3 - Prediction on Test Data (Evaluation Metric)"
   ]
  },
  {
   "cell_type": "code",
   "execution_count": null,
   "metadata": {},
   "outputs": [],
   "source": [
    "# TODO:\n",
    "# Using the model trained in WP 1.2, make predictions on the test data (chr 1 of cell line X3).\n",
    "# Store predictions in a variable called \"pred\" which is a numpy array.\n",
    "\n",
    "pred = None\n",
    "# ---------------------------INSERT CODE HERE---------------------------\n",
    "\n",
    "\n",
    "\n",
    "\n",
    "# ----------------------------------------------------------------------\n",
    "\n",
    "# Check if \"pred\" meets the specified constrains\n",
    "assert isinstance(pred, np.ndarray), 'Prediction array must be a numpy array'\n",
    "assert np.issubdtype(pred.dtype, np.number), 'Prediction array must be numeric'\n",
    "assert pred.shape[0] == len(test_genes), 'Each gene should have a unique predicted expression'"
   ]
  },
  {
   "cell_type": "markdown",
   "metadata": {},
   "source": [
    "#### Store Predictions in the Required Format"
   ]
  },
  {
   "cell_type": "code",
   "execution_count": null,
   "metadata": {},
   "outputs": [],
   "source": [
    "# Store predictions in a ZIP. \n",
    "# Upload this zip on the project website under \"Your submission\".\n",
    "# Zip this notebook along with the conda environment (and README, optional) and upload this under \"Your code\".\n",
    "\n",
    "save_dir = 'path/to/save/output/file'  # TODO\n",
    "file_name = 'gex_predicted.csv'         # PLEASE DO NOT CHANGE THIS\n",
    "zip_name = \"LastName_FirstName_Project1.zip\" # TODO\n",
    "save_path = f'{save_dir}/{zip_name}'\n",
    "compression_options = dict(method=\"zip\", archive_name=file_name)\n",
    "\n",
    "test_genes['gex_predicted'] = pred.tolist()\n",
    "test_genes[['gene_name', 'gex_predicted']].to_csv(save_path, compression=compression_options)"
   ]
  }
 ],
 "metadata": {
  "kernelspec": {
   "display_name": "ml4gen",
   "language": "python",
   "name": "python3"
  },
  "language_info": {
   "codemirror_mode": {
    "name": "ipython",
    "version": 3
   },
   "file_extension": ".py",
   "mimetype": "text/x-python",
   "name": "python",
   "nbconvert_exporter": "python",
   "pygments_lexer": "ipython3",
   "version": "3.13.0"
  }
 },
 "nbformat": 4,
 "nbformat_minor": 2
}
